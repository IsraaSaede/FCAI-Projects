{
 "cells": [
  {
   "cell_type": "markdown",
   "id": "6cdf95ca",
   "metadata": {},
   "source": [
    "# Import The Libraries"
   ]
  },
  {
   "cell_type": "code",
   "execution_count": 1,
   "id": "2f322ce4",
   "metadata": {},
   "outputs": [],
   "source": [
    "import tensorflow as tf\n",
    "import numpy as np \n",
    "from matplotlib import pyplot as plt\n",
    "from sklearn.metrics import accuracy_score\n",
    "from keras.datasets import mnist\n",
    "from sklearn.neighbors import KNeighborsClassifier"
   ]
  },
  {
   "cell_type": "markdown",
   "id": "861d667c",
   "metadata": {},
   "source": [
    "# Creating Our Train and Test Arrays"
   ]
  },
  {
   "cell_type": "code",
   "execution_count": 2,
   "id": "4044857d",
   "metadata": {},
   "outputs": [
    {
     "name": "stdout",
     "output_type": "stream",
     "text": [
      "(10000, 28, 28)\n",
      "(1000, 28, 28)\n"
     ]
    }
   ],
   "source": [
    "(train_x,train_y),(test_x,test_y)= mnist.load_data()\n",
    "#split test and train take second 10000 for train\n",
    "train_X=train_x[10000:20000]\n",
    "train_Y=train_y[10000:20000]\n",
    "\n",
    "#take 1000 for test \n",
    "test_X=test_x[-1000:]\n",
    "test_Y=test_y[-1000:]\n",
    "\n",
    "#print shape of test and train\n",
    "print(train_X.shape)\n",
    "print(test_X.shape)"
   ]
  },
  {
   "cell_type": "markdown",
   "id": "0b80963c",
   "metadata": {},
   "source": [
    "# ReShaping Image To Small Images"
   ]
  },
  {
   "cell_type": "code",
   "execution_count": 3,
   "id": "e0cd0a9c",
   "metadata": {},
   "outputs": [],
   "source": [
    "#function get grid \n",
    "def imaged_grid(img , row , col ):\n",
    "    x , y = img.shape\n",
    "    assert x % row == 0, \"{} rows not divisble by {}\".format(x, row)\n",
    "    assert y % col == 0, \"{} cols not divisble by {}\".format(y, col)\n",
    "    return (img.reshape ( x //row, row, -1, col).swapaxes(1,2).reshape(-1, row, col))"
   ]
  },
  {
   "cell_type": "code",
   "execution_count": 4,
   "id": "8cbb0464",
   "metadata": {},
   "outputs": [
    {
     "name": "stdout",
     "output_type": "stream",
     "text": [
      "(16, 7, 7)\n"
     ]
    },
    {
     "data": {
      "text/plain": [
       "array([[[  0,   0,   0,   0,   0,   0,   0],\n",
       "        [  0,   0,   0,   0,   0,   0,   0],\n",
       "        [  0,   0,   0,   0,   0,   0,   0],\n",
       "        [  0,   0,   0,   0,   0,   0,   0],\n",
       "        [  0,   0,   0,   0,   0,   0,   0],\n",
       "        [  0,   0,   0,   0,   0,   0,   0],\n",
       "        [  0,   0,   0,   0,   0,   0,   0]],\n",
       "\n",
       "       [[  0,   0,   0,   0,   0,   0,   0],\n",
       "        [  0,   0,   0,   0,   0,   0,   0],\n",
       "        [  0,   0,   0,   0,   0,   0,   0],\n",
       "        [  0,   0,   0,   0,   0,   0,   0],\n",
       "        [  0,   0,   0,   0,   0,   0,   0],\n",
       "        [  0,   0,   0,   0,   0,   0,   0],\n",
       "        [  0,   0,   0,   0,   0,   0,   0]],\n",
       "\n",
       "       [[  0,   0,   0,   0,   0,   0,   0],\n",
       "        [  0,   0,   0,   0,   0,   0,   0],\n",
       "        [  0,   0,   0,   0,   0,   0,   0],\n",
       "        [  0,   0,   0,   0,   0,   0,   0],\n",
       "        [  0,   0,   0,   0,   0,  29, 216],\n",
       "        [  0,   0,   0,   0,  29, 135, 248],\n",
       "        [  0,   0,   0,  30, 135, 252, 252]],\n",
       "\n",
       "       [[  0,   0,   0,   0,   0,   0,   0],\n",
       "        [  0,   0,   0,   0,   0,   0,   0],\n",
       "        [  0,   0,   0,   0,   0,   0,   0],\n",
       "        [  0,   0,   0,   0,   0,   0,   0],\n",
       "        [168,  51,   0,   0,   0,   0,   0],\n",
       "        [252, 106,   0,   0,   0,   0,   0],\n",
       "        [178,  11,   0,   0,   0,   0,   0]],\n",
       "\n",
       "       [[  0,   0,   0,   0,   0,   0,   0],\n",
       "        [  0,   0,   0,   0,   0,   0,   0],\n",
       "        [  0,   0,   0,   0,   0,   0,   0],\n",
       "        [  0,   0,   0,   0,   0,   0,   0],\n",
       "        [  0,   0,   0,   0,   0,   0,   0],\n",
       "        [  0,   0,   0,   0,   0,   0,   0],\n",
       "        [  0,   0,   0,   0,   0,   0,   0]],\n",
       "\n",
       "       [[  0,   0,   0,   0,   0,   0,   0],\n",
       "        [  0,   0,   0,   0,   0,   0,   0],\n",
       "        [  0,   0,   0,   0,   0,   0,   0],\n",
       "        [  0,   0,   0,   0,   0,   0,   0],\n",
       "        [  0,   0,   0,   0,   0,   0,   0],\n",
       "        [  0,   0,   0,   0,   0,   0,  78],\n",
       "        [  0,   0,   0,   0,   0,   0, 133]],\n",
       "\n",
       "       [[  0,   0,   0, 123, 252, 252, 218],\n",
       "        [  0,   0,  25, 223, 252, 252, 107],\n",
       "        [  0,  23, 128, 252, 238, 170,  21],\n",
       "        [  0, 107, 252, 252, 185,   0,   0],\n",
       "        [ 27, 192, 252, 252, 185,   0,   0],\n",
       "        [253, 252, 252, 128,  78,   0,   0],\n",
       "        [253, 252, 202,  19,   0,   0,   0]],\n",
       "\n",
       "       [[ 15,   0,   0,   0,   0,   0,   0],\n",
       "        [  0,   0,   0,   0,   0,   0,   0],\n",
       "        [  0,   0,   0,   0,   0,   0,   0],\n",
       "        [  0,   0,   0,   0,   0,   0,   0],\n",
       "        [  0,   0,   0,   0,   0,   0,   0],\n",
       "        [  0,   0,   0,   0,   0,   0,   0],\n",
       "        [  0,   0,   0,   0,   0,   0,   0]],\n",
       "\n",
       "       [[  0,   0,   0,   0,   0,   0,   0],\n",
       "        [  0,   0,   0,   0,   0,   0,   0],\n",
       "        [  0,   0,   0,   0,   0,   0,   0],\n",
       "        [  0,   0,   0,   0,   0,   0,   0],\n",
       "        [  0,   0,   0,   0,   0,   0,   0],\n",
       "        [  0,   0,   0,   0,   0,   0,   0],\n",
       "        [  0,   0,   0,   0,   0,   0,   0]],\n",
       "\n",
       "       [[  0,   0,   0,   0,   0,  77, 253],\n",
       "        [  0,   0,   0,   0,  82, 247, 252],\n",
       "        [  0,   0,   0,  37, 243, 252, 252],\n",
       "        [  0,   0,   0,  83, 252, 252, 252],\n",
       "        [  0,  53, 200, 236, 245, 178,  53],\n",
       "        [  0, 165, 252, 252, 225,   0,   0],\n",
       "        [ 77, 236, 252, 224, 120,   0,   0]],\n",
       "\n",
       "       [[255, 202,  14,   0,   0,   0,   0],\n",
       "        [202,  14,   0,   0,   0,   0,   0],\n",
       "        [ 14,   0,   0,   0,   0,   0,   0],\n",
       "        [  0,   0,   0,   0,   0,   0,   0],\n",
       "        [  0,   0,   0,   0,   0,   0,   0],\n",
       "        [  0,   0,   0,   0,   0,   0,   0],\n",
       "        [  0,   0,   0,   0,   0,   0,   0]],\n",
       "\n",
       "       [[  0,   0,   0,   0,   0,   0,   0],\n",
       "        [  0,   0,   0,   0,   0,   0,   0],\n",
       "        [  0,   0,   0,   0,   0,   0,   0],\n",
       "        [  0,   0,   0,   0,   0,   0,   0],\n",
       "        [  0,   0,   0,   0,   0,   0,   0],\n",
       "        [  0,   0,   0,   0,   0,   0,   0],\n",
       "        [  0,   0,   0,   0,   0,   0,   0]],\n",
       "\n",
       "       [[  0,   0,   0,   0,   0,  12, 146],\n",
       "        [  0,   0,   0,   0,   0, 102, 250],\n",
       "        [  0,   0,   0,   0,   0,   0, 156],\n",
       "        [  0,   0,   0,   0,   0,   0,   0],\n",
       "        [  0,   0,   0,   0,   0,   0,   0],\n",
       "        [  0,   0,   0,   0,   0,   0,   0],\n",
       "        [  0,   0,   0,   0,   0,   0,   0]],\n",
       "\n",
       "       [[238, 252, 246,  71,   0,   0,   0],\n",
       "        [252, 217,  87,   0,   0,   0,   0],\n",
       "        [252, 146,  31,   0,   0,   0,   0],\n",
       "        [  0,   0,   0,   0,   0,   0,   0],\n",
       "        [  0,   0,   0,   0,   0,   0,   0],\n",
       "        [  0,   0,   0,   0,   0,   0,   0],\n",
       "        [  0,   0,   0,   0,   0,   0,   0]],\n",
       "\n",
       "       [[  0,   0,   0,   0,   0,   0,   0],\n",
       "        [  0,   0,   0,   0,   0,   0,   0],\n",
       "        [  0,   0,   0,   0,   0,   0,   0],\n",
       "        [  0,   0,   0,   0,   0,   0,   0],\n",
       "        [  0,   0,   0,   0,   0,   0,   0],\n",
       "        [  0,   0,   0,   0,   0,   0,   0],\n",
       "        [  0,   0,   0,   0,   0,   0,   0]],\n",
       "\n",
       "       [[  0,   0,   0,   0,   0,   0,   0],\n",
       "        [  0,   0,   0,   0,   0,   0,   0],\n",
       "        [  0,   0,   0,   0,   0,   0,   0],\n",
       "        [  0,   0,   0,   0,   0,   0,   0],\n",
       "        [  0,   0,   0,   0,   0,   0,   0],\n",
       "        [  0,   0,   0,   0,   0,   0,   0],\n",
       "        [  0,   0,   0,   0,   0,   0,   0]]], dtype=uint8)"
      ]
     },
     "execution_count": 4,
     "metadata": {},
     "output_type": "execute_result"
    }
   ],
   "source": [
    "#use 7*7 for grid image\n",
    "print(imaged_grid(test_X[2] , 7 , 7 ).shape)\n",
    "imaged_grid(test_X[2] , 7 , 7)"
   ]
  },
  {
   "cell_type": "markdown",
   "id": "b8293b9c",
   "metadata": {},
   "source": [
    "# Feature Extraction \"Centroid \""
   ]
  },
  {
   "cell_type": "code",
   "execution_count": 5,
   "id": "dc102109",
   "metadata": {},
   "outputs": [],
   "source": [
    "#function get centroid of each grid and put it in vector feature\n",
    "def get_centroid(img):\n",
    "    featureVector = []\n",
    "    for grid in imaged_grid(img , 7 , 7 ) :\n",
    "        Xc = 0 \n",
    "        Yc = 0 \n",
    "        sum = 0\n",
    "        for index, x in np.ndenumerate(grid):\n",
    "          sum += x \n",
    "          Xc  += x * index[0]\n",
    "          Yc  += x * index[1]\n",
    "        if sum != 0 :\n",
    "            featureVector.append( Xc/ sum )\n",
    "            featureVector.append(Yc/ sum )\n",
    "        else :\n",
    "             featureVector.append(0)\n",
    "             featureVector.append(0)\n",
    "    return np.array(featureVector)"
   ]
  },
  {
   "cell_type": "code",
   "execution_count": 6,
   "id": "df408652",
   "metadata": {},
   "outputs": [
    {
     "data": {
      "text/plain": [
       "(10000, 32)"
      ]
     },
     "execution_count": 6,
     "metadata": {},
     "output_type": "execute_result"
    }
   ],
   "source": [
    "#implement function for Train data\n",
    "features_train = [get_centroid(img)  for img in train_X ]\n",
    "features_train = np.array(features_train)\n",
    "features_train.shape"
   ]
  },
  {
   "cell_type": "code",
   "execution_count": 7,
   "id": "b8e937fa",
   "metadata": {},
   "outputs": [
    {
     "data": {
      "text/plain": [
       "(1000, 32)"
      ]
     },
     "execution_count": 7,
     "metadata": {},
     "output_type": "execute_result"
    }
   ],
   "source": [
    "#implemrnt function for test data\n",
    "features_test = [get_centroid(img)  for img in test_X ]\n",
    "features_test = np.array(features_test)\n",
    "features_test.shape"
   ]
  },
  {
   "cell_type": "markdown",
   "id": "1015abf3",
   "metadata": {},
   "source": [
    "# Classification Algorithms \"KNN\""
   ]
  },
  {
   "cell_type": "code",
   "execution_count": 8,
   "id": "fcfb69ab",
   "metadata": {},
   "outputs": [
    {
     "name": "stdout",
     "output_type": "stream",
     "text": [
      "Accuracy Score = 86.7 %\n"
     ]
    }
   ],
   "source": [
    "#Get accuracy using features of train&test data\n",
    "def KNN(features_train, features_test, train_Y):\n",
    "    knn = KNeighborsClassifier(1, metric='euclidean')\n",
    "    knn.fit(features_train, train_Y)  # fit train data\n",
    "    prediction = knn.predict(features_test)  # test data\n",
    "    return prediction\n",
    "Knn_prediction = KNN(features_train, features_test , train_Y)\n",
    "\n",
    "print(\"Accuracy Score =\", accuracy_score(test_Y, Knn_prediction) * 100, \"%\")"
   ]
  }
 ],
 "metadata": {
  "kernelspec": {
   "display_name": "Python 3 (ipykernel)",
   "language": "python",
   "name": "python3"
  },
  "language_info": {
   "codemirror_mode": {
    "name": "ipython",
    "version": 3
   },
   "file_extension": ".py",
   "mimetype": "text/x-python",
   "name": "python",
   "nbconvert_exporter": "python",
   "pygments_lexer": "ipython3",
   "version": "3.9.7"
  },
  "varInspector": {
   "cols": {
    "lenName": 16,
    "lenType": 16,
    "lenVar": 40
   },
   "kernels_config": {
    "python": {
     "delete_cmd_postfix": "",
     "delete_cmd_prefix": "del ",
     "library": "var_list.py",
     "varRefreshCmd": "print(var_dic_list())"
    },
    "r": {
     "delete_cmd_postfix": ") ",
     "delete_cmd_prefix": "rm(",
     "library": "var_list.r",
     "varRefreshCmd": "cat(var_dic_list()) "
    }
   },
   "types_to_exclude": [
    "module",
    "function",
    "builtin_function_or_method",
    "instance",
    "_Feature"
   ],
   "window_display": false
  }
 },
 "nbformat": 4,
 "nbformat_minor": 5
}
